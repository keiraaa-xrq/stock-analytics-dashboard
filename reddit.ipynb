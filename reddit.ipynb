{
 "cells": [
  {
   "cell_type": "code",
   "execution_count": 22,
   "metadata": {},
   "outputs": [],
   "source": [
    "import praw\n",
    "import datetime as dt\n",
    "import pandas as pd\n",
    "reddit = praw.Reddit(client_id='Rlmvoi5snEil5RLoeCymJw',\n",
    "                        client_secret='oMmJOOfBMoCjtROy4WDOikhvCxF-zw',\n",
    "                        user_agent='foosh')\n",
    "headlines = set()\n",
    "\n",
    "def get_reddit_post(stock_ticker):\n",
    "    subreddit_list = ['stocks','wallstreetbets','stockmarket','options']    \n",
    "\n",
    "    list_of_columns = ['stock_ticker','subreddit','id','title','url','upvotes','comments','author','created_time']\n",
    "    df = pd.DataFrame(columns = list_of_columns)\n",
    "    stock_ticker_lists = []\n",
    "    subreddit_lists = []\n",
    "    id = []\n",
    "    title = []\n",
    "    url = []\n",
    "    upvotes = []\n",
    "    comments = []\n",
    "    author = []\n",
    "    created_time = []\n",
    "\n",
    "    for subreddit in subreddit_list:\n",
    "        praw = reddit.subreddit(subreddit)\n",
    "        posts = praw.search(stock_ticker, sort='all', time_filter='hour')\n",
    "\n",
    "        for submission in posts:\n",
    "            subreddit_lists.append(subreddit)\n",
    "            stock_ticker_lists.append(stock_ticker)\n",
    "            url.append(submission.url)\n",
    "            title.append(submission.title)\n",
    "            upvotes.append(submission.score)\n",
    "            comments.append(submission.num_comments)\n",
    "            author.append(submission.author)\n",
    "            id.append(submission.id)\n",
    "            created_time.append(submission.created_utc)\n",
    "        \n",
    "    df['stock_ticker'] = stock_ticker_lists\n",
    "    df['subreddit'] = subreddit_lists\n",
    "    df['id'] = id\n",
    "    df['title'] = title\n",
    "    df['url'] = url\n",
    "    df['upvotes'] = upvotes\n",
    "    df['comments'] = comments\n",
    "    df['author'] = author\n",
    "    df['created_time'] = created_time\n",
    "    \n",
    "    print(len(df))\n",
    "    return df\n"
   ]
  },
  {
   "cell_type": "code",
   "execution_count": 11,
   "metadata": {},
   "outputs": [],
   "source": [
    "# top 30 US tech firms by market cap\n",
    "\n",
    "def get_all_tickers():\n",
    "    ticker_list = [\"AAPL\", \"MSFT\", \"GOOG\", \"AMZN\", \"TSLA\", \"NVDA\", \"META\", \"AVGO\", \"ORCL\", \"CSCO\", \n",
    "    \"CRM\", \"TXN\", \"ADBE\", \"NFLX\", \"QCOM\", \"AMD\", \"IBM\", \"INTU\", \"INTC\", \"AMAT\",\n",
    "    \"BKNG\", \"ADI\", \"ADP\", \"ServiceNow\", \"PYPL\", \"ABNB\", \"FISV\", \"LRCX\", \"UBER\", \"EQIX\"]\n",
    "\n",
    "    output = pd.DataFrame()\n",
    "    for ticker in ticker_list:\n",
    "        df = get_reddit_post(ticker)\n",
    "        output = pd.concat([output,df])\n",
    "    return output\n",
    "\n"
   ]
  },
  {
   "cell_type": "code",
   "execution_count": 42,
   "metadata": {},
   "outputs": [],
   "source": [
    "def get_id_ticker(df):\n",
    "    df['stock_ticker'] = df['stock_ticker'].replace('ServiceNow','NOW')\n",
    "    id_ticker_dict = {}\n",
    "    # id_fields_dict = {}\n",
    "    \n",
    "    for index, row in df.iterrows():\n",
    "        id = row['id']\n",
    "        ticker = row['stock_ticker']\n",
    "        # fields = [row['subreddit'], row['title'], row['url'],row['upvotes'],row['comments'],row['author'],row['created_time']]\n",
    "        if id in id_ticker_dict:\n",
    "            value = id_ticker_dict[id]\n",
    "            value.append(ticker)\n",
    "            id_ticker_dict[id] = value\n",
    "        else:\n",
    "            id_ticker_dict[id] = [ticker]\n",
    "        # id_fields_dict[id] = fields\n",
    "        \n",
    "    # df = pd.DataFrame(list(id_ticker_dict.items()),columns = ['id','ticker']) \n",
    "    # df.sort_values('id')\n",
    "\n",
    "    return id_ticker_dict\n",
    "\n",
    "\n",
    "\n"
   ]
  },
  {
   "cell_type": "code",
   "execution_count": 53,
   "metadata": {},
   "outputs": [],
   "source": [
    "def get_full_table(df):\n",
    "    id_ticker_dict = get_id_ticker(df)\n",
    "    df.drop(['stock_ticker'], axis=1)\n",
    "    df.drop_duplicates()\n",
    "    tickers = []\n",
    "    for index, row in df.iterrows():\n",
    "        tickers.append(id_ticker_dict[row['id']])\n",
    "    df['tickers'] = tickers\n",
    "    return df\n",
    "\n",
    "def get_duplicates(df):\n",
    "    df = df.drop(['subreddit','title','url','comments','upvotes','author','created_time'], axis=1)\n",
    "    return df\n"
   ]
  },
  {
   "cell_type": "code",
   "execution_count": 60,
   "metadata": {},
   "outputs": [
    {
     "data": {
      "text/html": [
       "<div>\n",
       "<style scoped>\n",
       "    .dataframe tbody tr th:only-of-type {\n",
       "        vertical-align: middle;\n",
       "    }\n",
       "\n",
       "    .dataframe tbody tr th {\n",
       "        vertical-align: top;\n",
       "    }\n",
       "\n",
       "    .dataframe thead th {\n",
       "        text-align: right;\n",
       "    }\n",
       "</style>\n",
       "<table border=\"1\" class=\"dataframe\">\n",
       "  <thead>\n",
       "    <tr style=\"text-align: right;\">\n",
       "      <th></th>\n",
       "      <th>stock_ticker</th>\n",
       "      <th>id</th>\n",
       "      <th>tickers</th>\n",
       "    </tr>\n",
       "  </thead>\n",
       "  <tbody>\n",
       "    <tr>\n",
       "      <th>0</th>\n",
       "      <td>ADI</td>\n",
       "      <td>11wph9f</td>\n",
       "      <td>[ADI]</td>\n",
       "    </tr>\n",
       "  </tbody>\n",
       "</table>\n",
       "</div>"
      ],
      "text/plain": [
       "  stock_ticker       id tickers\n",
       "0          ADI  11wph9f   [ADI]"
      ]
     },
     "execution_count": 60,
     "metadata": {},
     "output_type": "execute_result"
    }
   ],
   "source": [
    "get_duplicates(df)"
   ]
  },
  {
   "cell_type": "code",
   "execution_count": 48,
   "metadata": {},
   "outputs": [
    {
     "name": "stdout",
     "output_type": "stream",
     "text": [
      "0\n",
      "0\n",
      "0\n",
      "0\n",
      "0\n",
      "0\n",
      "0\n",
      "0\n",
      "0\n",
      "0\n",
      "0\n",
      "0\n",
      "0\n",
      "0\n",
      "0\n",
      "0\n",
      "0\n",
      "0\n",
      "0\n",
      "0\n",
      "0\n",
      "1\n",
      "0\n",
      "0\n",
      "0\n",
      "0\n",
      "0\n",
      "0\n",
      "0\n",
      "0\n"
     ]
    }
   ],
   "source": [
    "df = get_all_tickers()\n",
    "output = get_full_table(df)\n",
    "output2 = get_duplicates(df)"
   ]
  },
  {
   "cell_type": "code",
   "execution_count": 58,
   "metadata": {},
   "outputs": [
    {
     "data": {
      "text/html": [
       "<div>\n",
       "<style scoped>\n",
       "    .dataframe tbody tr th:only-of-type {\n",
       "        vertical-align: middle;\n",
       "    }\n",
       "\n",
       "    .dataframe tbody tr th {\n",
       "        vertical-align: top;\n",
       "    }\n",
       "\n",
       "    .dataframe thead th {\n",
       "        text-align: right;\n",
       "    }\n",
       "</style>\n",
       "<table border=\"1\" class=\"dataframe\">\n",
       "  <thead>\n",
       "    <tr style=\"text-align: right;\">\n",
       "      <th></th>\n",
       "      <th>stock_ticker</th>\n",
       "      <th>subreddit</th>\n",
       "      <th>id</th>\n",
       "      <th>title</th>\n",
       "      <th>url</th>\n",
       "      <th>upvotes</th>\n",
       "      <th>comments</th>\n",
       "      <th>author</th>\n",
       "      <th>created_time</th>\n",
       "      <th>tickers</th>\n",
       "    </tr>\n",
       "  </thead>\n",
       "  <tbody>\n",
       "    <tr>\n",
       "      <th>0</th>\n",
       "      <td>ADI</td>\n",
       "      <td>wallstreetbets</td>\n",
       "      <td>11wph9f</td>\n",
       "      <td>Ruble Goldberg Machine</td>\n",
       "      <td>https://i.redd.it/tdtqkmu5kxoa1.png</td>\n",
       "      <td>0.0</td>\n",
       "      <td>2.0</td>\n",
       "      <td>KaiAndTran</td>\n",
       "      <td>1.679334e+09</td>\n",
       "      <td>[ADI]</td>\n",
       "    </tr>\n",
       "  </tbody>\n",
       "</table>\n",
       "</div>"
      ],
      "text/plain": [
       "  stock_ticker       subreddit       id                   title  \\\n",
       "0          ADI  wallstreetbets  11wph9f  Ruble Goldberg Machine   \n",
       "\n",
       "                                   url  upvotes  comments      author  \\\n",
       "0  https://i.redd.it/tdtqkmu5kxoa1.png      0.0       2.0  KaiAndTran   \n",
       "\n",
       "   created_time tickers  \n",
       "0  1.679334e+09   [ADI]  "
      ]
     },
     "execution_count": 58,
     "metadata": {},
     "output_type": "execute_result"
    }
   ],
   "source": [
    "df\n",
    "\n"
   ]
  }
 ],
 "metadata": {
  "kernelspec": {
   "display_name": "Python 3",
   "language": "python",
   "name": "python3"
  },
  "language_info": {
   "codemirror_mode": {
    "name": "ipython",
    "version": 3
   },
   "file_extension": ".py",
   "mimetype": "text/x-python",
   "name": "python",
   "nbconvert_exporter": "python",
   "pygments_lexer": "ipython3",
   "version": "3.10.2"
  },
  "orig_nbformat": 4
 },
 "nbformat": 4,
 "nbformat_minor": 2
}
